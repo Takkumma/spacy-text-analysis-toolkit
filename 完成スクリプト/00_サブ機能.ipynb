{
 "cells": [
  {
   "cell_type": "code",
   "execution_count": 1,
   "metadata": {},
   "outputs": [],
   "source": [
    "import os\n",
    "import csv\n",
    "import spacy\n",
    "from collections import defaultdict\n",
    "from spacy.tokens import DocBin"
   ]
  },
  {
   "cell_type": "code",
   "execution_count": 2,
   "metadata": {},
   "outputs": [],
   "source": [
    "# 基本設定\n",
    "main_directory = \"processed_data\"  # 親ディレクトリへの相対パス\n",
    "subdirectories = [\"economist\"]  # 読み込む子ディレクトリ名のリスト\n",
    "nlp_model = \"en_core_web_sm\"  # 解析に利用したモデル名\n",
    "\n",
    "# 特定のファイルのみを読み込む場合は以下のリストにtxtファイル名を追加(空リストの場合は全ファイルを読み込む)\n",
    "selected_file_names = []"
   ]
  },
  {
   "cell_type": "code",
   "execution_count": 3,
   "metadata": {},
   "outputs": [
    {
     "name": "stdout",
     "output_type": "stream",
     "text": [
      "全てのデータが読み込まれました。\n",
      "読み込まれたデータ数: 1\n",
      "読み込まれたファイル名: ['cleaned.txt']\n"
     ]
    }
   ],
   "source": [
    "# spaCyの言語モデルをロード\n",
    "nlp = spacy.load(nlp_model)\n",
    "\n",
    "# 解析結果を格納する辞書の初期化\n",
    "docs_dict = {}\n",
    "# フィルタリングされたDocオブジェクトを格納する辞書の初期化\n",
    "filtered_docs = {}\n",
    "\n",
    "# 指定されたサブディレクトリ内のファイルを読み込む\n",
    "for subdir in subdirectories:\n",
    "    directory = os.path.join(main_directory, subdir)\n",
    "    \n",
    "    # サブディレクトリ内のファイルを読み込む\n",
    "    for filename in os.listdir(directory): \n",
    "        if filename.endswith(\".spacy\"):  # .spacyファイルならば\n",
    "            spacy_path = os.path.join(directory, filename)\n",
    "            txt_filename = filename.replace(\".spacy\", \".txt\")  # .spaCyファイルに対応するテキストファイル名を作成\n",
    "            txt_path = os.path.join(directory, txt_filename)  # .spacyファイルに対応するテキストファイルのパス\n",
    "            \n",
    "            # .spacyファイルからDocオブジェクトを読み込む\n",
    "            doc_bin = DocBin().from_disk(spacy_path)  # DocBinオブジェクトを読み込む\n",
    "            docs = list(doc_bin.get_docs(nlp.vocab))  # Docオブジェクトをリストに格納\n",
    "            \n",
    "            # 対応する.txtファイルからファイル名を読み込む\n",
    "            if os.path.exists(txt_path):\n",
    "                with open(txt_path, 'r', encoding='utf-8') as f:\n",
    "                    file_names = [line.strip() for line in f.readlines()]  # ファイル名をリストに格納\n",
    "                \n",
    "                # Docオブジェクトとファイル名の対応を辞書に格納\n",
    "                for doc, fname in zip(docs, file_names):\n",
    "                    docs_dict[fname] = doc\n",
    "            else:\n",
    "                print(f\"警告: {txt_filename} に対応するテキストファイルが存在しません。\")\n",
    "\n",
    "# ユーザーがファイル名を指定した場合、それに対応するDocオブジェクトをフィルタリング\n",
    "if selected_file_names:\n",
    "    missing_files = []  # 存在しないファイル名を格納するリスト\n",
    "    for fname in selected_file_names:\n",
    "        if fname in docs_dict:  # 指定されたファイル名が読み込んだデータに存在する場合\n",
    "            filtered_docs[fname] = docs_dict[fname]\n",
    "        else:\n",
    "            missing_files.append(fname)\n",
    "    \n",
    "    if missing_files:\n",
    "        print(f\"警告: 次の指定されたファイルは存在しません: {', '.join(missing_files)}\")\n",
    "    if filtered_docs:\n",
    "        print(\"指定された一部のデータが読み込まれました。\")\n",
    "    else:\n",
    "        print(\"指定されたファイルに対応するデータが見つかりませんでした。\")\n",
    "else:\n",
    "    filtered_docs = docs_dict\n",
    "    print(\"全てのデータが読み込まれました。\")\n",
    "print(f\"読み込まれたデータ数: {len(filtered_docs)}\")\n",
    "print(f\"読み込まれたファイル名: {list(filtered_docs.keys())}\")"
   ]
  },
  {
   "cell_type": "markdown",
   "metadata": {},
   "source": [
    "# モデルに付属するパイプライン機能"
   ]
  },
  {
   "cell_type": "code",
   "execution_count": null,
   "metadata": {},
   "outputs": [],
   "source": [
    "# モデルに付属するパイプライン機能を表示する\n",
    "print(\"モデルに付属するパイプライン機能:\")\n",
    "for pipe_name in nlp.pipe_names:\n",
    "    print(f\"- {pipe_name}\")"
   ]
  },
  {
   "cell_type": "markdown",
   "metadata": {},
   "source": [
    "# モデルに付属するストップワード"
   ]
  },
  {
   "cell_type": "code",
   "execution_count": 5,
   "metadata": {},
   "outputs": [
    {
     "name": "stdout",
     "output_type": "stream",
     "text": [
      "モデルに付属するデフォルトのストップワードリストが en_core_web_sm_stopwords.txt に出力されました。\n"
     ]
    }
   ],
   "source": [
    "# モデルに付属するデフォルトのストップワードリストをテキストファイルに出力する\n",
    "stopwords_filename = f\"{nlp_model}_stopwords.txt\"\n",
    "with open(stopwords_filename, \"w\", encoding=\"utf-8\") as f:\n",
    "    for stopword in sorted(nlp.Defaults.stop_words):\n",
    "        f.write(f\"{stopword}\\n\")\n",
    "print(f\"モデルに付属するデフォルトのストップワードリストが {stopwords_filename} に出力されました。\")"
   ]
  },
  {
   "cell_type": "markdown",
   "metadata": {},
   "source": [
    "# 品詞, 品詞タグ, 依存関係ラベル, 固有表現ラベルの出力"
   ]
  },
  {
   "cell_type": "code",
   "execution_count": 4,
   "metadata": {},
   "outputs": [
    {
     "name": "stdout",
     "output_type": "stream",
     "text": [
      "結果がCSVファイル 'output.csv' に書き込まれました。\n"
     ]
    },
    {
     "name": "stderr",
     "output_type": "stream",
     "text": [
      "c:\\Users\\G018C1286\\zemi\\zemi2\\kasou\\Lib\\site-packages\\spacy\\glossary.py:20: UserWarning: [W118] Term 'predet' not found in glossary. It may however be explained in documentation for the corpora used to train the language. Please check `nlp.meta[\"sources\"]` for any relevant links.\n",
      "  warnings.warn(Warnings.W118.format(term=term))\n"
     ]
    }
   ],
   "source": [
    "import csv\n",
    "from collections import Counter\n",
    "\n",
    "# 品詞、品詞タグ、依存構造ラベル、固有表現ラベルを格納する辞書の初期化\n",
    "pos_counts = Counter()\n",
    "tag_counts = Counter()\n",
    "dep_counts = Counter()\n",
    "ent_counts = Counter()\n",
    "\n",
    "# トークン数と固有表現数の初期化\n",
    "total_tokens = 0\n",
    "total_ents = 0\n",
    "\n",
    "# フィルタリングされたDocオブジェクトを反復処理\n",
    "for doc in filtered_docs.values():\n",
    "    # 品詞の集計\n",
    "    for token in doc:\n",
    "        pos_counts[token.pos_] += 1\n",
    "        tag_counts[token.tag_] += 1\n",
    "        dep_counts[token.dep_] += 1\n",
    "        total_tokens += 1\n",
    "    \n",
    "    # 固有表現ラベルの集計\n",
    "    for ent in doc.ents:\n",
    "        ent_counts[ent.label_] += 1\n",
    "        total_ents += 1\n",
    "\n",
    "# CSVファイルに結果を書き込む\n",
    "with open('output.csv', 'w', newline='', encoding='utf-8') as csvfile:\n",
    "    writer = csv.writer(csvfile)\n",
    "    \n",
    "    # ヘッダー行の書き込み\n",
    "    header = ['品詞ラベル', '品詞頻度', '品詞割合', '品詞説明',\n",
    "              '品詞タグラベル', '品詞タグ頻度', '品詞タグ割合', '品詞タグ説明',\n",
    "              '依存構造ラベル', '依存構造頻度', '依存構造割合', '依存構造説明',\n",
    "              '固有表現ラベル', '固有表現頻度', '固有表現割合', '固有表現説明']\n",
    "    writer.writerow(header)\n",
    "    \n",
    "    # データ行の書き込み\n",
    "    max_rows = max(len(pos_counts), len(tag_counts), len(dep_counts), len(ent_counts))\n",
    "    for i in range(max_rows):\n",
    "        row = []\n",
    "        \n",
    "        # 品詞情報の追加\n",
    "        if i < len(pos_counts):\n",
    "            pos, count = list(pos_counts.items())[i]\n",
    "            percentage = count / total_tokens * 100\n",
    "            row.extend([pos, count, f\"{percentage:.2f}%\", spacy.explain(pos)])\n",
    "        else:\n",
    "            row.extend(['', '', '', ''])\n",
    "        \n",
    "        # 品詞タグ情報の追加\n",
    "        if i < len(tag_counts):\n",
    "            tag, count = list(tag_counts.items())[i]\n",
    "            percentage = count / total_tokens * 100\n",
    "            row.extend([tag, count, f\"{percentage:.2f}%\", spacy.explain(tag)])\n",
    "        else:\n",
    "            row.extend(['', '', '', ''])\n",
    "        \n",
    "        # 依存構造情報の追加\n",
    "        if i < len(dep_counts):\n",
    "            dep, count = list(dep_counts.items())[i]\n",
    "            percentage = count / total_tokens * 100\n",
    "            row.extend([dep, count, f\"{percentage:.2f}%\", spacy.explain(dep)])\n",
    "        else:\n",
    "            row.extend(['', '', '', ''])\n",
    "        \n",
    "        # 固有表現情報の追加\n",
    "        if i < len(ent_counts):\n",
    "            ent_label, count = list(ent_counts.items())[i]\n",
    "            percentage = count / total_ents * 100\n",
    "            row.extend([ent_label, count, f\"{percentage:.2f}%\", spacy.explain(ent_label)])\n",
    "        else:\n",
    "            row.extend(['', '', '', ''])\n",
    "        \n",
    "        writer.writerow(row)\n",
    "\n",
    "print(\"結果がCSVファイル 'output.csv' に書き込まれました。\")"
   ]
  },
  {
   "cell_type": "markdown",
   "metadata": {},
   "source": [
    "# 総語数, 異なり語数, 文の数(is alphaは日本語とかに対応していないので修正必要！)"
   ]
  },
  {
   "cell_type": "code",
   "execution_count": 14,
   "metadata": {},
   "outputs": [
    {
     "name": "stdout",
     "output_type": "stream",
     "text": [
      "総語数: 122515\n",
      "異なり語数: 9331\n",
      "文の数: 6733\n",
      "\n",
      "5回以上出現した単語数: 2376\n",
      "10回以上出現した単語数: 1396\n"
     ]
    }
   ],
   "source": [
    "import spacy\n",
    "from collections import Counter\n",
    "\n",
    "def calculate_corpus_stats(docs):\n",
    "    total_tokens = 0\n",
    "    token_counts = Counter()\n",
    "    total_sentences = 0\n",
    "\n",
    "    # 除外する品詞のリスト\n",
    "    excluded_pos = {\"PUNCT\", \"SYM\", \"X\", \"NUM\"}\n",
    "\n",
    "    for doc in docs:\n",
    "        # 記号、句読点、その他のカテゴリ、数値を除外\n",
    "        tokens = [token.lemma_ for token in doc if token.pos_ not in excluded_pos]\n",
    "        token_counts.update(tokens)\n",
    "        total_tokens += len(tokens)\n",
    "        total_sentences += len(list(doc.sents))\n",
    "    \n",
    "    # 計算結果の表示\n",
    "    print(f\"総語数: {total_tokens}\")\n",
    "    print(f\"異なり語数: {len(token_counts)}\")\n",
    "    print(f\"文の数: {total_sentences}\")\n",
    "    \n",
    "    # 5回以上出現した単語数\n",
    "    words_above_5 = sum(1 for word, count in token_counts.items() if count >= 5)\n",
    "    print(f\"\\n5回以上出現した単語数: {words_above_5}\")\n",
    "\n",
    "    # 10回以上出現した単語数\n",
    "    words_above_10 = sum(1 for word, count in token_counts.items() if count >= 10)\n",
    "    print(f\"10回以上出現した単語数: {words_above_10}\")\n",
    "\n",
    "# 関数を呼び出して結果を表示\n",
    "calculate_corpus_stats(filtered_docs.values())"
   ]
  },
  {
   "cell_type": "code",
   "execution_count": 13,
   "metadata": {},
   "outputs": [
    {
     "name": "stdout",
     "output_type": "stream",
     "text": [
      "総語数: 119349\n",
      "異なり語数: 9013\n",
      "文の数: 6733\n",
      "\n",
      "5回以上出現した単語数: 2341\n",
      "10回以上出現した単語数: 1379\n"
     ]
    }
   ],
   "source": [
    "\n",
    "import spacy\n",
    "from collections import Counter\n",
    "\n",
    "def calculate_corpus_stats(docs):\n",
    "    total_tokens = 0\n",
    "    token_counts = Counter()\n",
    "    total_sentences = 0\n",
    "\n",
    "    # 除外する品詞のリスト\n",
    "    excluded_pos = {\"PUNCT\", \"SYM\", \"X\", \"NUM\"}\n",
    "\n",
    "    for doc in docs:\n",
    "        # 記号、句読点、その他のカテゴリ、数値を除外\n",
    "        tokens = [token.lemma_ for token in doc if token.pos_ not in excluded_pos and not token.like_num and token.is_alpha]\n",
    "        token_counts.update(tokens)\n",
    "        total_tokens += len(tokens)\n",
    "        total_sentences += len(list(doc.sents))\n",
    "    \n",
    "    # 計算結果の表示\n",
    "    print(f\"総語数: {total_tokens}\")\n",
    "    print(f\"異なり語数: {len(token_counts)}\")\n",
    "    print(f\"文の数: {total_sentences}\")\n",
    "    \n",
    "    # 5回以上出現した単語数\n",
    "    words_above_5 = sum(1 for word, count in token_counts.items() if count >= 5)\n",
    "    print(f\"\\n5回以上出現した単語数: {words_above_5}\")\n",
    "\n",
    "    # 10回以上出現した単語数\n",
    "    words_above_10 = sum(1 for word, count in token_counts.items() if count >= 10)\n",
    "    print(f\"10回以上出現した単語数: {words_above_10}\")\n",
    "\n",
    "# 関数を呼び出して結果を表示\n",
    "calculate_corpus_stats(filtered_docs.values())"
   ]
  },
  {
   "cell_type": "markdown",
   "metadata": {},
   "source": [
    "# 文の境界認識機能の確認"
   ]
  },
  {
   "cell_type": "code",
   "execution_count": null,
   "metadata": {},
   "outputs": [],
   "source": [
    "# 抽出するサンプル文の数と出力ファイル名を指定\n",
    "num_sentences = 10\n",
    "output_file = \"sample_sentences.txt\""
   ]
  },
  {
   "cell_type": "code",
   "execution_count": 36,
   "metadata": {},
   "outputs": [
    {
     "name": "stdout",
     "output_type": "stream",
     "text": [
      "指定された 10 個の文が sample_sentences.txt に出力されました。\n"
     ]
    }
   ],
   "source": [
    "def save_sample_sentences(docs, output_file, num_sentences):\n",
    "    sentences = []\n",
    "    for doc in docs.values():\n",
    "        for sent in doc.sents:\n",
    "            sentences.append(sent.text.strip())\n",
    "            if len(sentences) >= num_sentences:\n",
    "                break\n",
    "        if len(sentences) >= num_sentences:\n",
    "            break\n",
    "\n",
    "    with open(output_file, \"w\", encoding=\"utf-8\") as f:\n",
    "        f.write(\"\\n\".join(sentences))\n",
    "\n",
    "    print(f\"指定された {num_sentences} 個の文が {output_file} に出力されました。\")\n",
    "\n",
    "save_sample_sentences(filtered_docs, output_file, num_sentences)"
   ]
  }
 ],
 "metadata": {
  "kernelspec": {
   "display_name": "kasou",
   "language": "python",
   "name": "python3"
  },
  "language_info": {
   "codemirror_mode": {
    "name": "ipython",
    "version": 3
   },
   "file_extension": ".py",
   "mimetype": "text/x-python",
   "name": "python",
   "nbconvert_exporter": "python",
   "pygments_lexer": "ipython3",
   "version": "3.11.3"
  }
 },
 "nbformat": 4,
 "nbformat_minor": 2
}

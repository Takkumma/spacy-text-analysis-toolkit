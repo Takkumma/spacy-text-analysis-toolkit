{
 "cells": [
  {
   "cell_type": "markdown",
   "metadata": {},
   "source": [
    "# テキストデータ解析スクリプト\n",
    "\n",
    "このスクリプトは、指定したディレクトリ内のテキストファイルを読み込み、spaCyライブラリを使用して言語解析を行う。解析結果はDocオブジェクトとして保存され、他のスクリプトで再利用できる。\n",
    "\n",
    "## 使用方法\n",
    "\n",
    "1. 解析対象のテキストファイルを格納したディレクトリ（フォルダ）を用意する。\n",
    "2. このスクリプトを開き、カーネルに仮想環境を設定する。\n",
    "3. spaCyライブラリと解析する言語のモデルを、必要に応じて事前にインストールする。\n",
    " - 例: `!pip install spacy` , `!python -m spacy download en_core_web_sm`\n",
    "4. スクリプト内の「ユーザーが編集する設定」セクションで以下の変数を設定する。\n",
    " - `input_directory`: 解析対象のテキストファイルが格納されたディレクトリ名\n",
    " - `nlp_model`: 解析に使用するモデルの名前（例: \"en_core_web_sm\"）\n",
    " - `output_subdirectory`: 今回の解析結果を保存する子ディレクトリ名\n",
    " - `output_main_directory`: 子ディレクトリが格納される親ディレクトリ名\n",
    " - `encoding`: テキストファイルのエンコーディング（デフォルトは \"utf-8\"）\n",
    "5. スクリプトを実行する。\n",
    "\n",
    "## 出力結果\n",
    "\n",
    "設定した出力ディレクトリ(output_subdirectory)に以下の2つのファイルが生成される。\n",
    "\n",
    "- `processed_YYYYMMDD_HHMMSS.spacy`: 解析結果のDocオブジェクトが格納されたバイナリファイル\n",
    "- `processed_YYYYMMDD_HHMMSS.txt`: 処理したファイル名のリストが格納されたテキストファイル\n",
    "\n",
    "生成されたファイル名には、処理が実行された日時が含まれる。\n",
    "\n",
    "## 追加機能\n",
    "\n",
    "- チャンク単位の解析: 大きなテキストファイルを小さなチャンク（行）に分割して処理できる。\n",
    "- spacy-stanzaを用いた解析: spacy-stanzaパッケージを使用して、Stanzaのモデルで解析を行える。"
   ]
  },
  {
   "cell_type": "markdown",
   "metadata": {},
   "source": [
    "# **1. テキスト解析＆保存**  \n",
    "## ユーザーが設定する項目"
   ]
  },
  {
   "cell_type": "code",
   "execution_count": 4,
   "metadata": {},
   "outputs": [],
   "source": [
    "input_directory = \"finance\"  # 解析対象のテキストファイルが保存されたディレクトリへのパス\n",
    "nlp_model = \"en_core_web_sm\"  # 解析に使用するモデルの名前\n",
    "output_subdirectory = \"user_defined_subdir\"  # 今回の解析結果を保存する子ディレクトリ名\n",
    "output_main_directory = \"processed_data\"  # 親ディレクトリ名\n",
    "encoding = \"utf-8\"  # テキストファイルのエンコーディング"
   ]
  },
  {
   "cell_type": "markdown",
   "metadata": {},
   "source": [
    "## テキスト解析の実行"
   ]
  },
  {
   "cell_type": "code",
   "execution_count": null,
   "metadata": {},
   "outputs": [],
   "source": [
    "import os\n",
    "import spacy\n",
    "from spacy.tokens import DocBin\n",
    "from datetime import datetime\n",
    "\n",
    "def load_text(file_path, encoding='utf-8'):\n",
    "    \"\"\"\n",
    "    テキストファイルを読み込む関数\n",
    "\n",
    "    Args:\n",
    "        file_path (str): 読み込むテキストファイルのパス\n",
    "        encoding (str, optional): テキストファイルのエンコーディング. デフォルトは 'utf-8'.\n",
    "\n",
    "    Returns:\n",
    "        str: 読み込んだテキストファイルの内容（改行をスペースに置換済み）\n",
    "    \"\"\"\n",
    "    with open(file_path, 'r', encoding=encoding) as f:\n",
    "        return f.read().replace('\\n', ' ')  # 改行をスペースに置換して返す(注意)\n",
    "\n",
    "nlp = spacy.load(nlp_model)  # spaCyの言語モデルをロード\n",
    "output_directory = os.path.join(output_main_directory, output_subdirectory)  # メインディレクトリとサブディレクトリのパスを作成\n",
    "os.makedirs(output_directory, exist_ok=True)  # メインディレクトリとサブディレクトリを作成（存在しない場合）\n",
    "\n",
    "doc_bin = DocBin()  # DocBinクラスのインスタンスを作成\n",
    "file_names = []  # ファイル名を保存するための空のリストを作成\n",
    "now_str = datetime.now().strftime(\"%Y%m%d_%H%M%S\")  # 現在の日時を取得してファイル名に組み込むための文字列を生成\n",
    "\n",
    "# テキストファイルを読み込んでDocオブジェクトに変換し、DocBinに追加\n",
    "for filename in sorted(os.listdir(input_directory)):  # ファイル名でソートしてループ\n",
    "    if filename.endswith(\".txt\"):\n",
    "        file_path = os.path.join(input_directory, filename)\n",
    "        text = load_text(file_path, encoding)  # テキストファイルを読み込む\n",
    "        doc = nlp(text)  \n",
    "        \n",
    "        doc_bin.add(doc)\n",
    "        file_names.append(filename)\n",
    "        \n",
    "        print(f\"Processed: {filename}\")\n",
    "\n",
    "# DocBinをサブディレクトリに保存\n",
    "doc_bin_file_path = os.path.join(output_directory, f\"processed_{now_str}.spacy\")\n",
    "doc_bin.to_disk(doc_bin_file_path)\n",
    "\n",
    "# ファイル名をサブディレクトリに保存\n",
    "file_names_path = os.path.join(output_directory, f\"processed_{now_str}.txt\")\n",
    "with open(file_names_path, 'w') as f:\n",
    "    for name in file_names:\n",
    "        f.write(name + '\\n')\n",
    "\n",
    "print(f\"全てのDocオブジェクトが '{doc_bin_file_path}' に保存されました。\")\n",
    "print(f\"ファイル名が '{file_names_path}' に保存されました。\")"
   ]
  },
  {
   "cell_type": "markdown",
   "metadata": {},
   "source": [
    "# **2. チャンク単位の解析**\n",
    "## ユーザーが設定する項目"
   ]
  },
  {
   "cell_type": "code",
   "execution_count": 1,
   "metadata": {},
   "outputs": [],
   "source": [
    "input_directory = \"jp_dowa\"  # 解析対象のテキストファイルが保存されたディレクトリ名\n",
    "nlp_model = \"ja_ginza\"  # 解析に使用するモデルの名前\n",
    "chunk_size = 100  # テキストファイルを分割する単位（行数）\n",
    "\n",
    "output_subdirectory = \"user_defined_subdir\"  # 今回の解析結果を保存する子ディレクトリ名\n",
    "output_main_directory = \"processed_data\"  # 親ディレクトリ名\n",
    "encoding = \"utf-8\"  # テキストファイルのエンコーディング"
   ]
  },
  {
   "cell_type": "markdown",
   "metadata": {},
   "source": [
    "## テキスト解析の実行"
   ]
  },
  {
   "cell_type": "code",
   "execution_count": null,
   "metadata": {},
   "outputs": [],
   "source": [
    "import os\n",
    "import spacy\n",
    "from spacy.tokens import DocBin\n",
    "from datetime import datetime\n",
    "\n",
    "def load_text(file_path, encoding='utf-8'):\n",
    "    \"\"\"\n",
    "    テキストファイルを読み込む関数\n",
    "\n",
    "    Args:\n",
    "        file_path (str): 読み込むテキストファイルのパス\n",
    "        encoding (str, optional): テキストファイルのエンコーディング. デフォルトは 'utf-8'.\n",
    "\n",
    "    Returns:\n",
    "        list: 読み込んだテキストファイルの内容（改行で分割済み）\n",
    "    \"\"\"\n",
    "    with open(file_path, 'r', encoding=encoding) as f:\n",
    "        return f.readlines()  # 改行ごとにリストに格納して返す\n",
    "\n",
    "nlp = spacy.load(nlp_model)  # spaCyの言語モデルをロード\n",
    "output_directory = os.path.join(output_main_directory, output_subdirectory)  # メインディレクトリとサブディレクトリのパスを作成\n",
    "os.makedirs(output_directory, exist_ok=True)  # メインディレクトリとサブディレクトリを作成（存在しない場合）\n",
    "\n",
    "doc_bin = DocBin()  # DocBinクラスのインスタンスを作成\n",
    "file_names = []  # ファイル名を保存するための空のリストを作成\n",
    "now_str = datetime.now().strftime(\"%Y%m%d_%H%M%S\")  # 現在の日時を取得してファイル名に組み込むための文字列を生成\n",
    "\n",
    "for filename in sorted(os.listdir(input_directory)):  \n",
    "    if filename.endswith(\".txt\"):\n",
    "        file_path = os.path.join(input_directory, filename)\n",
    "        lines = load_text(file_path, encoding)  # テキストファイルを読み込む(改行ごとにリストに格納)\n",
    "        \n",
    "        for i in range(0, len(lines), chunk_size):  # chunk_sizeの値だけループ変数 i が増加\n",
    "            chunk_text = ''.join(lines[i:i+chunk_size])  # chunk_sizeごとにテキストを結合\n",
    "            chunk_text = chunk_text.replace('\\n', ' ')  # 改行をスペースに置換(注意)\n",
    "            doc = nlp(chunk_text)\n",
    "            \n",
    "            doc_bin.add(doc)\n",
    "            file_names.append(filename + f\"_chunk_{i//chunk_size + 1}\") # ファイル名にチャンク番号を追加\n",
    "            \n",
    "            print(f\"Processed: {filename}, chunk {i//chunk_size + 1}\")\n",
    "\n",
    "# DocBinをサブディレクトリに保存（日時をファイル名に組み込む）\n",
    "doc_bin_file_path = os.path.join(output_directory, f\"processed_{now_str}.spacy\")\n",
    "doc_bin.to_disk(doc_bin_file_path)\n",
    "\n",
    "# ファイル名をサブディレクトリに保存（日時をファイル名に組み込む）\n",
    "file_names_path = os.path.join(output_directory, f\"processed_{now_str}.txt\")\n",
    "with open(file_names_path, 'w') as f:\n",
    "    for name in file_names:\n",
    "        f.write(name + '\\n')\n",
    "\n",
    "print(f\"全てのDocオブジェクトが '{doc_bin_file_path}' に保存されました。\")\n",
    "print(f\"ファイル名が '{file_names_path}' に保存されました。\")"
   ]
  },
  {
   "cell_type": "markdown",
   "metadata": {},
   "source": [
    "# **3. spacy-stanzaを用いた解析**\n",
    "## ユーザーが設定する項目"
   ]
  },
  {
   "cell_type": "code",
   "execution_count": 1,
   "metadata": {},
   "outputs": [],
   "source": [
    "input_directory = \"finance\"  # 解析対象のテキストファイルが保存されたディレクトリ名\n",
    "nlp_model = \"en\"  # 解析に使用するモデルの名前(stanzaのモデル)\n",
    "output_subdirectory = \"user_defined_subdir\"  # 今回の解析結果を保存する子ディレクトリ名\n",
    "output_main_directory = \"processed_data\"  # 親ディレクトリ名\n",
    "encoding = \"utf-8\"  # テキストファイルのエンコーディング"
   ]
  },
  {
   "cell_type": "markdown",
   "metadata": {},
   "source": [
    "## テキスト解析の実行"
   ]
  },
  {
   "cell_type": "code",
   "execution_count": null,
   "metadata": {},
   "outputs": [],
   "source": [
    "import os\n",
    "import spacy_stanza\n",
    "from spacy.tokens import DocBin\n",
    "from datetime import datetime\n",
    "\n",
    "def load_text(file_path, encoding='utf-8'):\n",
    "    \"\"\"\n",
    "    テキストファイルを読み込む関数\n",
    "\n",
    "    Args:\n",
    "        file_path (str): 読み込むテキストファイルのパス\n",
    "        encoding (str, optional): テキストファイルのエンコーディング. デフォルトは 'utf-8'.\n",
    "\n",
    "    Returns:\n",
    "        str: 読み込んだテキストファイルの内容（改行をスペースに置換済み）\n",
    "    \"\"\"\n",
    "    with open(file_path, 'r', encoding=encoding) as f:\n",
    "        return f.read().replace('\\n', ' ')  # 改行をスペースに置換して返す(注意)\n",
    "\n",
    "nlp = spacy_stanza.load_pipeline(nlp_model)  # stanzaの言語モデルをロード（必要に応じてダウンロードが実行される）\n",
    "output_directory = os.path.join(output_main_directory, output_subdirectory)  # メインディレクトリとサブディレクトリのパスを作成\n",
    "os.makedirs(output_directory, exist_ok=True)  # メインディレクトリとサブディレクトリを作成（存在しない場合）\n",
    "\n",
    "doc_bin = DocBin()  # DocBinクラスのインスタンスを作成\n",
    "file_names = []  # ファイル名を保存するための空のリストを作成\n",
    "now_str = datetime.now().strftime(\"%Y%m%d_%H%M%S\")  # 現在の日時を取得してファイル名に組み込むための文字列を生成\n",
    "\n",
    "# テキストファイルを読み込んでDocオブジェクトに変換し、DocBinに追加\n",
    "for filename in sorted(os.listdir(input_directory)):\n",
    "    if filename.endswith(\".txt\"):\n",
    "        file_path = os.path.join(input_directory, filename)\n",
    "        text = load_text(file_path, encoding)\n",
    "        doc = nlp(text)\n",
    "        \n",
    "        doc_bin.add(doc)\n",
    "        file_names.append(filename)\n",
    "        \n",
    "        print(f\"Processed: {filename}\")\n",
    "\n",
    "# DocBinをサブディレクトリに保存（日時をファイル名に組み込む）\n",
    "doc_bin_file_path = os.path.join(output_directory, f\"processed_{now_str}.spacy\")\n",
    "doc_bin.to_disk(doc_bin_file_path)\n",
    "\n",
    "# ファイル名をサブディレクトリに保存（日時をファイル名に組み込む）\n",
    "file_names_path = os.path.join(output_directory, f\"processed_{now_str}.txt\")\n",
    "with open(file_names_path, 'w') as f:\n",
    "    for name in file_names:\n",
    "        f.write(name + '\\n')\n",
    "\n",
    "print(f\"全てのDocオブジェクトが '{doc_bin_file_path}' に保存されました。\")\n",
    "print(f\"ファイル名が '{file_names_path}' に保存されました。\")"
   ]
  }
 ],
 "metadata": {
  "kernelspec": {
   "display_name": "Python 3 (ipykernel)",
   "language": "python",
   "name": "python3"
  },
  "language_info": {
   "codemirror_mode": {
    "name": "ipython",
    "version": 3
   },
   "file_extension": ".py",
   "mimetype": "text/x-python",
   "name": "python",
   "nbconvert_exporter": "python",
   "pygments_lexer": "ipython3",
   "version": "3.11.3"
  }
 },
 "nbformat": 4,
 "nbformat_minor": 2
}

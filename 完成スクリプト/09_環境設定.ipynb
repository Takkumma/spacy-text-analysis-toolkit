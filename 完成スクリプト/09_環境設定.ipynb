{
 "cells": [
  {
   "cell_type": "markdown",
   "metadata": {},
   "source": [
    "# 環境構築(ライブラリのインポート)\n",
    "\n",
    "このスクリプトでは、分析ツールを使用するために必要なライブラリとモデルをインストールします。  \n",
    "\n",
    "## 使用方法\n",
    "\n",
    "1. 仮想環境をアクティブにし、Jupyter Notebookでカーネルを選択します。\n",
    "2. 以下のセルを順番に実行してライブラリとモデルをインストールします。\n",
    "3. インストールが完了したら、ツールの使用を開始できます。"
   ]
  },
  {
   "cell_type": "markdown",
   "metadata": {},
   "source": [
    "## 1. 必要なライブラリのインストール"
   ]
  },
  {
   "cell_type": "code",
   "execution_count": null,
   "metadata": {
    "tags": []
   },
   "outputs": [],
   "source": [
    "! pip install spacy spacy-stanza pandas scattertext networkx scikit-learn pyvis"
   ]
  },
  {
   "cell_type": "markdown",
   "metadata": {},
   "source": [
    "## 2. spaCyモデルのダウンロード\n",
    "### 使用する言語のモデルを指定してください（デフォルトは英語の小規模モデル）。"
   ]
  },
  {
   "cell_type": "code",
   "execution_count": null,
   "metadata": {
    "tags": []
   },
   "outputs": [],
   "source": [
    "# 使用するモデル名をここで指定\n",
    "spacy_model = \"en_core_web_sm\"\n",
    "\n",
    "# モデルのダウンロード\n",
    "!python -m spacy download {spacy_model}"
   ]
  },
  {
   "cell_type": "markdown",
   "metadata": {},
   "source": [
    "## 3. Stanzaモデルのダウンロード (任意) \n",
    "### 使用する言語を指定してください（デフォルトは英語）。"
   ]
  },
  {
   "cell_type": "code",
   "execution_count": null,
   "metadata": {
    "tags": []
   },
   "outputs": [],
   "source": [
    "# 使用する言語をここで指定\n",
    "stanza_language = \"en\"\n",
    "\n",
    "import stanza\n",
    "stanza.download(stanza_language)"
   ]
  },
  {
   "cell_type": "markdown",
   "metadata": {},
   "source": [
    "## **これで環境構築は完了です。**"
   ]
  }
 ],
 "metadata": {
  "kernelspec": {
   "display_name": "Python 3 (ipykernel)",
   "language": "python",
   "name": "python3"
  },
  "language_info": {
   "codemirror_mode": {
    "name": "ipython",
    "version": 3
   },
   "file_extension": ".py",
   "mimetype": "text/x-python",
   "name": "python",
   "nbconvert_exporter": "python",
   "pygments_lexer": "ipython3",
   "version": "3.10.13"
  }
 },
 "nbformat": 4,
 "nbformat_minor": 4
}

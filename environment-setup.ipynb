{
 "cells": [
  {
   "cell_type": "markdown",
   "metadata": {},
   "source": [
    "# 環境構築(ライブラリのインポート)\n",
    "\n",
    "このスクリプトでは、分析ツールを使用するためのライブラリをインストールします。使用するスクリプトに応じて必要なライブラリを仮想環境にインストールしてください。\n",
    "## 使用方法\n",
    "\n",
    "1. Jupyter Notebookでカーネルを選択します。\n",
    "2. スクリプトで使用されているライブラリをインポートします。\n",
    "3. インポートが完了したことを確認します。\n",
    "\n",
    "### ①テキストファイル解析\n",
    "\n",
    "### ・spaCy: 自然言語処理ライブラリ\n",
    "\n",
    "1. `! pip install spacy`コマンドを実行して、spaCyをインストールします。\n",
    "2. 使用するモデルに応じてモデル名を変更し、`! python -m spacy download <model_name>`コマンドを実行してモデルをダウンロードします。\n",
    "\n",
    "### ・spacy-stanza: StanfordのStanzaを使用するためのspaCyラッパー\n",
    "\n",
    "1. `! pip install spacy-stanza`コマンドを実行して、spacy-stanzaをインストールします。\n",
    "2. `import stanza`を実行してstanzaをインポートします。\n",
    "3. 使用するモデルに応じてモデル名を変更し、`stanza.download(\"<language>\")`を実行してモデルをダウンロードします。\n",
    "\n",
    "### ②特徴語分析\n",
    "\n",
    "### ・pandas: データ操作ライブラリ\n",
    "\n",
    "1. `! pip install pandas`コマンドを実行して、pandasをインストールします。\n",
    "\n",
    "### ・scattertext: テキストの可視化ライブラリ\n",
    "\n",
    "1. `! pip install scattertext`コマンドを実行して、scattertextをインストールします。\n",
    "\n",
    "### ③コンコーダンサー  \n",
    "\n",
    "spaCyライブラリと解析に使用したモデルがインポートされていれば実行できます。\n",
    "\n",
    "### ④共起語分析\n",
    "\n",
    "### ・pandas: データ操作ライブラリ\n",
    "\n",
    "1. `! pip install pandas`コマンドを実行して、pandasをインストールします。\n",
    "\n",
    "### ⑤共起ネットワーク\n",
    "\n",
    "### ・NetworkX: グラフ理論とネットワーク解析のためのライブラリ\n",
    "\n",
    "1. `! pip install networkx`コマンドを実行して、NetworkXをインストールします。\n",
    "\n",
    "### ・sklearn: 機械学習ライブラリ\n",
    "\n",
    "1. `! pip install sklearn`コマンドを実行して、sklearnをインストールします。\n",
    "\n",
    "### ・pyvis: ネットワークの可視化ライブラリ\n",
    "\n",
    "1. `! pip install pyvis`コマンドを実行して、pyvisをインストールします。\n",
    "\n",
    "以上の手順に従って、必要なライブラリをインストールし、モデルをダウンロードすることで、スクリプトを実行するための環境が整います。"
   ]
  },
  {
   "cell_type": "markdown",
   "metadata": {},
   "source": [
    "# **①テキストファイル解析**\n",
    "## spaCy: 自然言語処理ライブラリ"
   ]
  },
  {
   "cell_type": "code",
   "execution_count": null,
   "metadata": {
    "tags": []
   },
   "outputs": [],
   "source": [
    "! pip install spacy"
   ]
  },
  {
   "cell_type": "markdown",
   "metadata": {},
   "source": [
    "## モデルのダウンロード（※ 使用するモデルに応じてモデル名を変更してください。）"
   ]
  },
  {
   "cell_type": "code",
   "execution_count": null,
   "metadata": {
    "tags": []
   },
   "outputs": [],
   "source": [
    "! python -m spacy download en_core_web_sm"
   ]
  },
  {
   "cell_type": "markdown",
   "metadata": {},
   "source": [
    "# **①テキストファイル解析(※ spacy-stanzaを用いた解析)**  \n",
    "## spacy-stanza: StanfordのStanzaを使用するためのspaCyラッパー"
   ]
  },
  {
   "cell_type": "code",
   "execution_count": null,
   "metadata": {
    "tags": []
   },
   "outputs": [],
   "source": [
    "! pip install spacy-stanza"
   ]
  },
  {
   "cell_type": "markdown",
   "metadata": {},
   "source": [
    "## モデルのダウンロード（※ 使用するモデルに応じてモデル名を変更してください。）"
   ]
  },
  {
   "cell_type": "code",
   "execution_count": null,
   "metadata": {},
   "outputs": [],
   "source": [
    "import stanza\n",
    "stanza.download(\"en\")"
   ]
  },
  {
   "cell_type": "markdown",
   "metadata": {},
   "source": [
    "# **②特徴語分析**\n",
    "## pandas: データ操作ライブラリ"
   ]
  },
  {
   "cell_type": "code",
   "execution_count": null,
   "metadata": {
    "tags": []
   },
   "outputs": [],
   "source": [
    "! pip install pandas"
   ]
  },
  {
   "cell_type": "markdown",
   "metadata": {},
   "source": [
    "## scattertext: テキストの可視化ライブラリ"
   ]
  },
  {
   "cell_type": "code",
   "execution_count": null,
   "metadata": {},
   "outputs": [],
   "source": [
    "! pip install scattertext"
   ]
  },
  {
   "cell_type": "markdown",
   "metadata": {},
   "source": [
    "# ④共起語分析\n",
    "## pandas: データ操作ライブラリ"
   ]
  },
  {
   "cell_type": "code",
   "execution_count": null,
   "metadata": {},
   "outputs": [],
   "source": [
    "! pip install pandas"
   ]
  },
  {
   "cell_type": "markdown",
   "metadata": {},
   "source": [
    "# ⑤共起ネットワーク\n",
    "## NetworkX:  グラフ理論とネットワーク解析のためのライブラリ"
   ]
  },
  {
   "cell_type": "code",
   "execution_count": null,
   "metadata": {},
   "outputs": [],
   "source": [
    "! pip install networkx"
   ]
  },
  {
   "cell_type": "markdown",
   "metadata": {},
   "source": [
    "## sklearn: 機械学習ライブラリ"
   ]
  },
  {
   "cell_type": "code",
   "execution_count": null,
   "metadata": {},
   "outputs": [],
   "source": [
    "! pip install sklearn"
   ]
  },
  {
   "cell_type": "markdown",
   "metadata": {},
   "source": [
    "## pyvis: ネットワークの可視化ライブラリ"
   ]
  },
  {
   "cell_type": "code",
   "execution_count": null,
   "metadata": {},
   "outputs": [],
   "source": [
    "! pip install pyvis"
   ]
  }
 ],
 "metadata": {
  "kernelspec": {
   "display_name": "Python 3 (ipykernel)",
   "language": "python",
   "name": "python3"
  },
  "language_info": {
   "codemirror_mode": {
    "name": "ipython",
    "version": 3
   },
   "file_extension": ".py",
   "mimetype": "text/x-python",
   "name": "python",
   "nbconvert_exporter": "python",
   "pygments_lexer": "ipython3",
   "version": "3.10.13"
  }
 },
 "nbformat": 4,
 "nbformat_minor": 4
}
